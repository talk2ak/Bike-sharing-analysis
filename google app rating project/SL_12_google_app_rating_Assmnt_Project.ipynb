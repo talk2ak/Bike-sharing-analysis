{
 "cells": [
  {
   "cell_type": "markdown",
   "id": "2fda3c64",
   "metadata": {},
   "source": [
    "App Rating Prediction\n",
    "\n",
    "Project 1 \n",
    "\n",
    "DESCRIPTION\n",
    "Objective: Make a model to predict the app rating, with other information about the app provided.\n",
    "\n",
    "Problem Statement:\n",
    "Google Play Store team is about to launch a new feature wherein, certain apps that are promising, are boosted in visibility. The boost will manifest in multiple ways including higher priority in recommendations sections (“Similar apps”, “You might also like”, “New and updated games”). These will also get a boost in search results visibility.  This feature will help bring more attention to newer apps that have the potential.\n",
    "\n",
    "Domain: General\n",
    "\n",
    "Analysis to be done: The problem is to identify the apps that are going to be good for Google to promote. App ratings, which are provided by the customers, is always a great indicator of the goodness of the app. The problem reduces to: predict which apps will have high ratings.\n",
    "\n",
    "Content: Dataset: Google Play Store data (“googleplaystore.csv”)\n",
    "\n",
    "Fields in the data –\n",
    "•\tApp: Application name\n",
    "•\tCategory: Category to which the app belongs \n",
    "•\tRating: Overall user rating of the app\n",
    "•\tReviews: Number of user reviews for the app\n",
    "•\tSize: Size of the app\n",
    "•\tInstalls: Number of user downloads/installs for the app\n",
    "•\tType: Paid or Free\n",
    "•\tPrice: Price of the app\n",
    "•\tContent Rating: Age group the app is targeted at - Children / Mature 21+ / Adult\n",
    "•\tGenres: An app can belong to multiple genres (apart from its main category). For example, a musical family game will belong to Music, Game, Family genres.\n",
    "•\tLast Updated: Date when the app was last updated on Play Store\n",
    "•\tCurrent Ver: Current version of the app available on Play Store\n",
    "•\tAndroid Ver: Minimum required Android version\n",
    " "
   ]
  },
  {
   "cell_type": "code",
   "execution_count": 1,
   "id": "ec8c1691",
   "metadata": {},
   "outputs": [],
   "source": [
    "import numpy as np\n",
    "import pandas as pd\n"
   ]
  },
  {
   "cell_type": "code",
   "execution_count": 2,
   "id": "1a627a82",
   "metadata": {},
   "outputs": [],
   "source": [
    "# Q.1. Load the data file using pandas. \n",
    "\n",
    "data=pd.read_csv('googleplaystore.csv')"
   ]
  },
  {
   "cell_type": "code",
   "execution_count": 3,
   "id": "71fd60af",
   "metadata": {},
   "outputs": [
    {
     "data": {
      "text/plain": [
       "App                  0\n",
       "Category             0\n",
       "Rating            1474\n",
       "Reviews              0\n",
       "Size                 0\n",
       "Installs             0\n",
       "Type                 1\n",
       "Price                0\n",
       "Content Rating       1\n",
       "Genres               0\n",
       "Last Updated         0\n",
       "Current Ver          8\n",
       "Android Ver          3\n",
       "dtype: int64"
      ]
     },
     "execution_count": 3,
     "metadata": {},
     "output_type": "execute_result"
    }
   ],
   "source": [
    "# Q.2. Check for null values in the data. Get the number of null values for each column.\n",
    "# Q.3. Drop records with nulls in any of the columns.\n",
    "\n",
    "data.isnull().sum()"
   ]
  },
  {
   "cell_type": "code",
   "execution_count": 4,
   "id": "f4c981bf",
   "metadata": {},
   "outputs": [],
   "source": [
    "data.dropna(inplace=True)"
   ]
  },
  {
   "cell_type": "code",
   "execution_count": 5,
   "id": "e5f4913c",
   "metadata": {},
   "outputs": [
    {
     "data": {
      "text/plain": [
       "App               0\n",
       "Category          0\n",
       "Rating            0\n",
       "Reviews           0\n",
       "Size              0\n",
       "Installs          0\n",
       "Type              0\n",
       "Price             0\n",
       "Content Rating    0\n",
       "Genres            0\n",
       "Last Updated      0\n",
       "Current Ver       0\n",
       "Android Ver       0\n",
       "dtype: int64"
      ]
     },
     "execution_count": 5,
     "metadata": {},
     "output_type": "execute_result"
    }
   ],
   "source": [
    "data.isnull().sum()"
   ]
  },
  {
   "cell_type": "markdown",
   "id": "a64e1209",
   "metadata": {},
   "source": [
    "Q.4. Variables seem to have incorrect type and inconsistent formatting. You need to fix them: \n",
    "\n",
    "         1.\tSize column has sizes in Kb as well as Mb. To analyze, you’ll need to convert these to numeric.\n",
    "            0.\tExtract the numeric value from the column\n",
    "            1.\tMultiply the value by 1,000, if size is mentioned in Mb\n",
    "           "
   ]
  },
  {
   "cell_type": "code",
   "execution_count": 6,
   "id": "7c4566c4",
   "metadata": {},
   "outputs": [
    {
     "name": "stdout",
     "output_type": "stream",
     "text": [
      "Varies with device    1637\n",
      "14M                    165\n",
      "12M                    161\n",
      "15M                    159\n",
      "11M                    159\n",
      "                      ... \n",
      "383k                     1\n",
      "454k                     1\n",
      "812k                     1\n",
      "442k                     1\n",
      "619k                     1\n",
      "Name: Size, Length: 413, dtype: int64\n"
     ]
    },
    {
     "data": {
      "text/plain": [
       "14000.0    165\n",
       "12000.0    161\n",
       "15000.0    159\n",
       "11000.0    159\n",
       "13000.0    157\n",
       "          ... \n",
       "383.0        1\n",
       "454.0        1\n",
       "812.0        1\n",
       "442.0        1\n",
       "619.0        1\n",
       "Name: Size, Length: 411, dtype: int64"
      ]
     },
     "execution_count": 6,
     "metadata": {},
     "output_type": "execute_result"
    }
   ],
   "source": [
    "\n",
    "\n",
    "print(data.Size.value_counts())\n",
    "def change(Size):\n",
    "    if 'M'in Size:\n",
    "        x=Size[:-1]\n",
    "        x=float(x)*1000\n",
    "        return x\n",
    "    elif 'k'in Size:\n",
    "        x=Size[:-1]\n",
    "        x=float(x)\n",
    "        return x\n",
    "    \n",
    "    else: return None\n",
    "    \n",
    "data.Size=data.Size.map(change)\n",
    "data.Size.value_counts()\n",
    "\n"
   ]
  },
  {
   "cell_type": "code",
   "execution_count": 7,
   "id": "1c881809",
   "metadata": {},
   "outputs": [
    {
     "name": "stdout",
     "output_type": "stream",
     "text": [
      "0\n"
     ]
    }
   ],
   "source": [
    "data.Size.fillna(method='pad',inplace=True)\n",
    "print(data.Size.isnull().sum())\n"
   ]
  },
  {
   "cell_type": "markdown",
   "id": "cff4b87c",
   "metadata": {},
   "source": [
    "Q.4.2.Reviews is a numeric field that is loaded as a string field. Convert it to numeric (int/float). \n"
   ]
  },
  {
   "cell_type": "code",
   "execution_count": 8,
   "id": "b951aed7",
   "metadata": {},
   "outputs": [],
   "source": [
    "\n",
    "data['Reviews']=data[\"Reviews\"].astype('int')"
   ]
  },
  {
   "cell_type": "code",
   "execution_count": 9,
   "id": "232293db",
   "metadata": {},
   "outputs": [
    {
     "data": {
      "text/plain": [
       "App                object\n",
       "Category           object\n",
       "Rating            float64\n",
       "Reviews             int32\n",
       "Size              float64\n",
       "Installs           object\n",
       "Type               object\n",
       "Price              object\n",
       "Content Rating     object\n",
       "Genres             object\n",
       "Last Updated       object\n",
       "Current Ver        object\n",
       "Android Ver        object\n",
       "dtype: object"
      ]
     },
     "execution_count": 9,
     "metadata": {},
     "output_type": "execute_result"
    }
   ],
   "source": [
    "data.dtypes"
   ]
  },
  {
   "cell_type": "markdown",
   "id": "8a0becb9",
   "metadata": {},
   "source": [
    "Q.4.3.\tInstalls field is currently stored as string and has values like 1,000,000+. \n",
    "      1.\tTreat 1,000,000+ as 1,000,000\n",
    "      2.\tremove ‘+’, ‘,’ from the field, convert it to integer"
   ]
  },
  {
   "cell_type": "code",
   "execution_count": 10,
   "id": "63072950",
   "metadata": {},
   "outputs": [
    {
     "name": "stderr",
     "output_type": "stream",
     "text": [
      "C:\\Users\\akhilesh\\AppData\\Local\\Temp/ipykernel_11316/2974977208.py:1: FutureWarning: The default value of regex will change from True to False in a future version.\n",
      "  data['Installs']=data['Installs'].str.replace('[+,]','')\n"
     ]
    }
   ],
   "source": [
    "data['Installs']=data['Installs'].str.replace('[+,]','')\n"
   ]
  },
  {
   "cell_type": "code",
   "execution_count": 11,
   "id": "6693489a",
   "metadata": {},
   "outputs": [],
   "source": [
    "\n",
    "data['Installs']=data[\"Installs\"].astype('int')\n"
   ]
  },
  {
   "cell_type": "markdown",
   "id": "02604426",
   "metadata": {},
   "source": [
    "Q.4.4.\tPrice field is a string and has $ symbol. Remove ‘$’ sign, and convert it to numeric.\n",
    "\n"
   ]
  },
  {
   "cell_type": "code",
   "execution_count": 12,
   "id": "a0c25bd2",
   "metadata": {},
   "outputs": [
    {
     "name": "stderr",
     "output_type": "stream",
     "text": [
      "C:\\Users\\akhilesh\\AppData\\Local\\Temp/ipykernel_11316/2428225794.py:1: FutureWarning: The default value of regex will change from True to False in a future version. In addition, single character regular expressions will *not* be treated as literal strings when regex=True.\n",
      "  data['Price']=data['Price'].str.replace('$','')\n"
     ]
    }
   ],
   "source": [
    "\n",
    "data['Price']=data['Price'].str.replace('$','')\n"
   ]
  },
  {
   "cell_type": "code",
   "execution_count": 13,
   "id": "922b0926",
   "metadata": {},
   "outputs": [
    {
     "data": {
      "text/plain": [
       "0         8715\n",
       "2.99       114\n",
       "0.99       106\n",
       "4.99        70\n",
       "1.99        59\n",
       "          ... \n",
       "1.29         1\n",
       "299.99       1\n",
       "379.99       1\n",
       "37.99        1\n",
       "1.20         1\n",
       "Name: Price, Length: 73, dtype: int64"
      ]
     },
     "execution_count": 13,
     "metadata": {},
     "output_type": "execute_result"
    }
   ],
   "source": [
    "\n",
    "data['Price'].value_counts()\n"
   ]
  },
  {
   "cell_type": "code",
   "execution_count": 14,
   "id": "35cc1081",
   "metadata": {},
   "outputs": [],
   "source": [
    "data['Price']=data['Price'].astype('float')\n"
   ]
  },
  {
   "cell_type": "code",
   "execution_count": 15,
   "id": "2e070c48",
   "metadata": {},
   "outputs": [
    {
     "data": {
      "text/plain": [
       "App                object\n",
       "Category           object\n",
       "Rating            float64\n",
       "Reviews             int32\n",
       "Size              float64\n",
       "Installs            int32\n",
       "Type               object\n",
       "Price             float64\n",
       "Content Rating     object\n",
       "Genres             object\n",
       "Last Updated       object\n",
       "Current Ver        object\n",
       "Android Ver        object\n",
       "dtype: object"
      ]
     },
     "execution_count": 15,
     "metadata": {},
     "output_type": "execute_result"
    }
   ],
   "source": [
    "data.dtypes"
   ]
  },
  {
   "cell_type": "markdown",
   "id": "39ac74d4",
   "metadata": {},
   "source": [
    "Q.5. Sanity checks:\n",
    "\n",
    "    1.\tAverage rating should be between 1 and 5 as only these values are allowed on the play store. Drop the rows that have a value outside this range.\n"
   ]
  },
  {
   "cell_type": "code",
   "execution_count": 16,
   "id": "1932922c",
   "metadata": {},
   "outputs": [
    {
     "data": {
      "text/plain": [
       "array([4.1, 3.9, 4.7, 4.5, 4.3, 4.4, 3.8, 4.2, 4.6, 4. , 4.8, 4.9, 3.6,\n",
       "       3.7, 3.2, 3.3, 3.4, 3.5, 3.1, 5. , 2.6, 3. , 1.9, 2.5, 2.8, 2.7,\n",
       "       1. , 2.9, 2.3, 2.2, 1.7, 2. , 1.8, 2.4, 1.6, 2.1, 1.4, 1.5, 1.2])"
      ]
     },
     "execution_count": 16,
     "metadata": {},
     "output_type": "execute_result"
    }
   ],
   "source": [
    "data['Rating'].unique()\n",
    "\n",
    "# data- Rating is between 1 to 5"
   ]
  },
  {
   "cell_type": "markdown",
   "id": "5cabfd90",
   "metadata": {},
   "source": [
    "Q 5. \n",
    "2.\tReviews should not be more than installs as only those who installed can review the app. \n",
    "If there are any such records, drop them.\n"
   ]
  },
  {
   "cell_type": "code",
   "execution_count": 17,
   "id": "fb185169",
   "metadata": {},
   "outputs": [
    {
     "data": {
      "text/plain": [
       "7"
      ]
     },
     "execution_count": 17,
     "metadata": {},
     "output_type": "execute_result"
    }
   ],
   "source": [
    "np.sum(data['Reviews']>data['Installs'])\n",
    "\n",
    "# Reviews can be equal to Installs but can'nt be greater than that"
   ]
  },
  {
   "cell_type": "code",
   "execution_count": 18,
   "id": "83dea52d",
   "metadata": {},
   "outputs": [],
   "source": [
    "data.drop(data[data['Reviews']>data['Installs']].index,inplace=True)"
   ]
  },
  {
   "cell_type": "markdown",
   "id": "d8f5d8df",
   "metadata": {},
   "source": [
    "\n",
    "Q5\n",
    " 3. For free apps (type = “Free”), the price should not be > 0. Drop any such rows.\n"
   ]
  },
  {
   "cell_type": "code",
   "execution_count": 19,
   "id": "cb9c5ed7",
   "metadata": {},
   "outputs": [
    {
     "data": {
      "text/plain": [
       "App                object\n",
       "Category           object\n",
       "Rating            float64\n",
       "Reviews             int32\n",
       "Size              float64\n",
       "Installs            int32\n",
       "Type               object\n",
       "Price             float64\n",
       "Content Rating     object\n",
       "Genres             object\n",
       "Last Updated       object\n",
       "Current Ver        object\n",
       "Android Ver        object\n",
       "dtype: object"
      ]
     },
     "execution_count": 19,
     "metadata": {},
     "output_type": "execute_result"
    }
   ],
   "source": [
    "data.dtypes\n"
   ]
  },
  {
   "cell_type": "code",
   "execution_count": 20,
   "id": "6ebff8d4",
   "metadata": {},
   "outputs": [
    {
     "data": {
      "text/plain": [
       "642"
      ]
     },
     "execution_count": 20,
     "metadata": {},
     "output_type": "execute_result"
    }
   ],
   "source": [
    "np.sum(data['Price']>0)"
   ]
  },
  {
   "cell_type": "code",
   "execution_count": 21,
   "id": "d96d21d0",
   "metadata": {},
   "outputs": [
    {
     "data": {
      "text/plain": [
       "8711"
      ]
     },
     "execution_count": 21,
     "metadata": {},
     "output_type": "execute_result"
    }
   ],
   "source": [
    "np.sum(data['Price']==0)"
   ]
  },
  {
   "cell_type": "code",
   "execution_count": 22,
   "id": "9bfcf756",
   "metadata": {},
   "outputs": [
    {
     "data": {
      "text/plain": [
       "8711"
      ]
     },
     "execution_count": 22,
     "metadata": {},
     "output_type": "execute_result"
    }
   ],
   "source": [
    "np.sum(data['Type']=='Free')"
   ]
  },
  {
   "cell_type": "code",
   "execution_count": 23,
   "id": "cd99237e",
   "metadata": {},
   "outputs": [
    {
     "data": {
      "text/plain": [
       "642"
      ]
     },
     "execution_count": 23,
     "metadata": {},
     "output_type": "execute_result"
    }
   ],
   "source": [
    "np.sum(data['Type']=='Paid')"
   ]
  },
  {
   "cell_type": "markdown",
   "id": "f376562d",
   "metadata": {},
   "source": [
    "Q.6. Performing univariate analysis: \n",
    "  \n",
    "  1. Boxplot for Price. Are there any outliers? Think about the price of usual apps on Play Store.\n",
    "    \n"
   ]
  },
  {
   "cell_type": "code",
   "execution_count": 24,
   "id": "8ef8bc36",
   "metadata": {},
   "outputs": [
    {
     "name": "stderr",
     "output_type": "stream",
     "text": [
      "C:\\Users\\akhilesh\\anaconda3\\lib\\site-packages\\seaborn\\_decorators.py:36: FutureWarning: Pass the following variable as a keyword arg: x. From version 0.12, the only valid positional argument will be `data`, and passing other arguments without an explicit keyword will result in an error or misinterpretation.\n",
      "  warnings.warn(\n"
     ]
    },
    {
     "data": {
      "text/plain": [
       "<AxesSubplot:xlabel='Price'>"
      ]
     },
     "execution_count": 24,
     "metadata": {},
     "output_type": "execute_result"
    },
    {
     "data": {
      "image/png": "[encoded data removed]",
      "text/plain": [
       "<Figure size 432x288 with 1 Axes>"
      ]
     },
     "metadata": {
      "needs_background": "light"
     },
     "output_type": "display_data"
    }
   ],
   "source": [
    "import seaborn as sns\n",
    "sns.boxplot(data['Price'])\n",
    "\n",
    "# usual price range is 0-50"
   ]
  },
  {
   "cell_type": "code",
   "execution_count": 25,
   "id": "94d0ea49",
   "metadata": {},
   "outputs": [
    {
     "data": {
      "text/plain": [
       "array([  0.  ,   4.99,   3.99,   6.99,   7.99,   5.99,   2.99,   3.49,\n",
       "         1.99,   9.99,   7.49,   0.99,   9.  ,   5.49,  10.  ,  24.99,\n",
       "        11.99,  79.99,  16.99,  14.99,  29.99,  12.99,   2.49,  10.99,\n",
       "         1.5 ,  19.99,  15.99,  33.99,  39.99,   3.95,   4.49,   1.7 ,\n",
       "         8.99,   1.49,   3.88, 399.99,  17.99, 400.  ,   3.02,   1.76,\n",
       "         4.84,   4.77,   1.61,   2.5 ,   1.59,   6.49,   1.29, 299.99,\n",
       "       379.99,  37.99,  18.99, 389.99,   8.49,   1.75,  14.  ,   2.  ,\n",
       "         3.08,   2.59,  19.4 ,   3.9 ,   4.59,  15.46,   3.04,  13.99,\n",
       "         4.29,   3.28,   4.6 ,   1.  ,   2.95,   2.9 ,   1.97,   2.56,\n",
       "         1.2 ])"
      ]
     },
     "execution_count": 25,
     "metadata": {},
     "output_type": "execute_result"
    }
   ],
   "source": [
    "data['Price'].unique()"
   ]
  },
  {
   "cell_type": "markdown",
   "id": "26ebc473",
   "metadata": {},
   "source": [
    "Q.6.2 \n",
    "Boxplot for Reviews. Are there any apps with very high number of reviews? Do the values seem right?\n"
   ]
  },
  {
   "cell_type": "code",
   "execution_count": 26,
   "id": "9ca868c1",
   "metadata": {},
   "outputs": [
    {
     "name": "stderr",
     "output_type": "stream",
     "text": [
      "C:\\Users\\akhilesh\\anaconda3\\lib\\site-packages\\seaborn\\_decorators.py:36: FutureWarning: Pass the following variable as a keyword arg: x. From version 0.12, the only valid positional argument will be `data`, and passing other arguments without an explicit keyword will result in an error or misinterpretation.\n",
      "  warnings.warn(\n"
     ]
    },
    {
     "data": {
      "text/plain": [
       "<AxesSubplot:xlabel='Reviews'>"
      ]
     },
     "execution_count": 26,
     "metadata": {},
     "output_type": "execute_result"
    },
    {
     "data": {
      "image/png": "[encoded data removed]",
      "text/plain": [
       "<Figure size 432x288 with 1 Axes>"
      ]
     },
     "metadata": {
      "needs_background": "light"
     },
     "output_type": "display_data"
    }
   ],
   "source": [
    "sns.boxplot(data['Reviews'])\n",
    "\n",
    "# yes the reviews are really high"
   ]
  },
  {
   "cell_type": "markdown",
   "id": "c55a898e",
   "metadata": {},
   "source": [
    "Q5.3 Histogram for Rating. How are the ratings distributed? Is it more toward higher ratings?\n"
   ]
  },
  {
   "cell_type": "code",
   "execution_count": 27,
   "id": "68a90f8f",
   "metadata": {},
   "outputs": [
    {
     "data": {
      "text/plain": [
       "<seaborn.axisgrid.FacetGrid at 0x24beb622f70>"
      ]
     },
     "execution_count": 27,
     "metadata": {},
     "output_type": "execute_result"
    },
    {
     "data": {
      "image/png": "[encoded data removed]",
      "text/plain": [
       "<Figure size 360x360 with 1 Axes>"
      ]
     },
     "metadata": {
      "needs_background": "light"
     },
     "output_type": "display_data"
    }
   ],
   "source": [
    "sns.displot(data[\"Rating\"])\n",
    "\n",
    "# yes, it is more towards higher rating"
   ]
  },
  {
   "cell_type": "markdown",
   "id": "08347f5d",
   "metadata": {},
   "source": [
    "Q5.4\tHistogram for Size. Note down your observations for the plots made above. Which of these seem to have outliers?"
   ]
  },
  {
   "cell_type": "code",
   "execution_count": 28,
   "id": "33a91750",
   "metadata": {},
   "outputs": [
    {
     "data": {
      "text/plain": [
       "<seaborn.axisgrid.FacetGrid at 0x24be5cb5b50>"
      ]
     },
     "execution_count": 28,
     "metadata": {},
     "output_type": "execute_result"
    },
    {
     "data": {
      "image/png": "[encoded data removed]",
      "text/plain": [
       "<Figure size 360x360 with 1 Axes>"
      ]
     },
     "metadata": {
      "needs_background": "light"
     },
     "output_type": "display_data"
    }
   ],
   "source": [
    "sns.displot(data[\"Size\"])\n"
   ]
  },
  {
   "cell_type": "markdown",
   "id": "10bbb657",
   "metadata": {},
   "source": [
    "7. Outlier treatment: \n",
    "\n",
    "    1.\tPrice: From the box plot, it seems like there are some apps with very high price. A price of $200 for an application on the Play Store is very high and suspicious!\n",
    "    0.\tCheck out the records with very high price\n",
    "    0.\tIs 200 indeed a high price?\n",
    "    1.\tDrop these as most seem to be junk apps\n"
   ]
  },
  {
   "cell_type": "markdown",
   "id": "db57cebb",
   "metadata": {},
   "source": [
    "Q.7.1.\t\n",
    "\n",
    "Price: From the box plot, it seems like there are some apps with very high price. A price of $200 for an application on the Play Store is very high and suspicious!\n",
    "            0.\tCheck out the records with very high price\n",
    "            0.\tIs 200 indeed a high price?\n",
    "            1.\tDrop these as most seem to be junk apps"
   ]
  },
  {
   "cell_type": "code",
   "execution_count": 29,
   "id": "d160fe65",
   "metadata": {},
   "outputs": [],
   "source": [
    "dt1=data[data.Price<200].copy()\n",
    "\n"
   ]
  },
  {
   "cell_type": "code",
   "execution_count": 58,
   "id": "04352fae",
   "metadata": {},
   "outputs": [
    {
     "data": {
      "text/plain": [
       "array([  0.  ,   4.99,   3.99,   6.99,   7.99,   5.99,   2.99,   3.49,\n",
       "         1.99,   9.99,   7.49,   0.99,   9.  ,   5.49,  10.  ,  24.99,\n",
       "        11.99,  79.99,  16.99,  14.99,  29.99,  12.99,   2.49,  10.99,\n",
       "         1.5 ,  19.99,  15.99,  33.99,  39.99,   3.95,   4.49,   1.7 ,\n",
       "         8.99,   1.49,   3.88, 399.99,  17.99, 400.  ,   3.02,   1.76,\n",
       "         4.84,   4.77,   1.61,   2.5 ,   1.59,   6.49,   1.29, 299.99,\n",
       "       379.99,  37.99,  18.99, 389.99,   8.49,   1.75,  14.  ,   2.  ,\n",
       "         3.08,   2.59,  19.4 ,   3.9 ,   4.59,  15.46,   3.04,  13.99,\n",
       "         4.29,   3.28,   4.6 ,   1.  ,   2.95,   2.9 ,   1.97,   2.56,\n",
       "         1.2 ])"
      ]
     },
     "execution_count": 58,
     "metadata": {},
     "output_type": "execute_result"
    }
   ],
   "source": [
    "data.Price.unique()"
   ]
  },
  {
   "cell_type": "code",
   "execution_count": 30,
   "id": "57642378",
   "metadata": {},
   "outputs": [
    {
     "name": "stderr",
     "output_type": "stream",
     "text": [
      "C:\\Users\\akhilesh\\anaconda3\\lib\\site-packages\\seaborn\\_decorators.py:36: FutureWarning: Pass the following variable as a keyword arg: x. From version 0.12, the only valid positional argument will be `data`, and passing other arguments without an explicit keyword will result in an error or misinterpretation.\n",
      "  warnings.warn(\n"
     ]
    },
    {
     "data": {
      "text/plain": [
       "<AxesSubplot:xlabel='Price'>"
      ]
     },
     "execution_count": 30,
     "metadata": {},
     "output_type": "execute_result"
    },
    {
     "data": {
      "image/png": "[encoded data removed]",
      "text/plain": [
       "<Figure size 432x288 with 1 Axes>"
      ]
     },
     "metadata": {
      "needs_background": "light"
     },
     "output_type": "display_data"
    }
   ],
   "source": [
    "sns.boxplot(dt1.Price)\n"
   ]
  },
  {
   "cell_type": "markdown",
   "id": "a3f1bbb1",
   "metadata": {},
   "source": [
    "Q.7.2. Reviews: Very few apps have very high number of reviews. \n",
    "       These are all star apps that don’t help with the analysis and, in fact, will skew it.\n",
    "       Drop records having more than 2 million reviews."
   ]
  },
  {
   "cell_type": "code",
   "execution_count": 31,
   "id": "b4621b15",
   "metadata": {},
   "outputs": [],
   "source": [
    "dt2=dt1[dt1.Reviews<2000000].copy()\n"
   ]
  },
  {
   "cell_type": "markdown",
   "id": "98f22c26",
   "metadata": {},
   "source": [
    "Q.7.3.\tInstalls: There seems to be some outliers in this field too. Apps having very high number of installs should be dropped from the analysis.\n",
    "    0.\tFind out the different percentiles – 10, 25, 50, 70, 90, 95, 99\n",
    "    1.\tDecide a threshold as cutoff for outlier and drop records having values more than that"
   ]
  },
  {
   "cell_type": "code",
   "execution_count": 32,
   "id": "66c6984e",
   "metadata": {},
   "outputs": [
    {
     "name": "stderr",
     "output_type": "stream",
     "text": [
      "C:\\Users\\akhilesh\\anaconda3\\lib\\site-packages\\seaborn\\_decorators.py:36: FutureWarning: Pass the following variable as a keyword arg: x. From version 0.12, the only valid positional argument will be `data`, and passing other arguments without an explicit keyword will result in an error or misinterpretation.\n",
      "  warnings.warn(\n"
     ]
    },
    {
     "data": {
      "text/plain": [
       "<AxesSubplot:xlabel='Installs'>"
      ]
     },
     "execution_count": 32,
     "metadata": {},
     "output_type": "execute_result"
    },
    {
     "data": {
      "image/png": "[encoded data removed]",
      "text/plain": [
       "<Figure size 432x288 with 1 Axes>"
      ]
     },
     "metadata": {
      "needs_background": "light"
     },
     "output_type": "display_data"
    }
   ],
   "source": [
    "sns.boxplot(dt2['Installs'])"
   ]
  },
  {
   "cell_type": "code",
   "execution_count": 33,
   "id": "85ba2d5b",
   "metadata": {},
   "outputs": [
    {
     "data": {
      "text/plain": [
       "0.10         1000.0\n",
       "0.25        10000.0\n",
       "0.50       500000.0\n",
       "0.75      5000000.0\n",
       "0.90     10000000.0\n",
       "0.95     10000000.0\n",
       "0.99    100000000.0\n",
       "Name: Installs, dtype: float64"
      ]
     },
     "execution_count": 33,
     "metadata": {},
     "output_type": "execute_result"
    }
   ],
   "source": [
    "dt2.Installs.quantile([0.10,0.25,0.50,0.75,0.90,0.95,0.99])\n"
   ]
  },
  {
   "cell_type": "code",
   "execution_count": 34,
   "id": "71c80074",
   "metadata": {},
   "outputs": [],
   "source": [
    "dt3=dt2[dt2.Installs<10000000].copy()\n"
   ]
  },
  {
   "cell_type": "code",
   "execution_count": 35,
   "id": "b17965c5",
   "metadata": {},
   "outputs": [
    {
     "name": "stderr",
     "output_type": "stream",
     "text": [
      "C:\\Users\\akhilesh\\anaconda3\\lib\\site-packages\\seaborn\\_decorators.py:36: FutureWarning: Pass the following variable as a keyword arg: x. From version 0.12, the only valid positional argument will be `data`, and passing other arguments without an explicit keyword will result in an error or misinterpretation.\n",
      "  warnings.warn(\n"
     ]
    },
    {
     "data": {
      "text/plain": [
       "<AxesSubplot:xlabel='Installs'>"
      ]
     },
     "execution_count": 35,
     "metadata": {},
     "output_type": "execute_result"
    },
    {
     "data": {
      "image/png": "[encoded data removed]",
      "text/plain": [
       "<Figure size 432x288 with 1 Axes>"
      ]
     },
     "metadata": {
      "needs_background": "light"
     },
     "output_type": "display_data"
    }
   ],
   "source": [
    "sns.boxplot(dt3['Installs'])"
   ]
  },
  {
   "cell_type": "markdown",
   "id": "d08193d4",
   "metadata": {},
   "source": [
    "8. Bivariate analysis: Let’s look at how the available predictors relate to the variable of interest, i.e., our target variable rating. Make scatter plots (for numeric features) and box plots (for character features) to assess the relations between rating and the other features.\n",
    "\n",
    "    1.\tMake scatter plot/joinplot for Rating vs. Price\n",
    "        0.\tWhat pattern do you observe? Does rating increase with price?\n",
    "    \n",
    "    2.\tMake scatter plot/joinplot for Rating vs. Size\n",
    "        0.\tAre heavier apps rated better?\n",
    "\n",
    "    3.\tMake scatter plot/joinplot for Rating vs. Reviews\n",
    "        0.\tDoes more review mean a better rating always?\n",
    "\n",
    "    4.\tMake boxplot for Rating vs. Content Rating\n",
    "        0.\tIs there any difference in the ratings? Are some types liked better?\n",
    "\n",
    "    5.\tMake boxplot for Ratings vs. Category\n",
    "        0.\tWhich genre has the best ratings?\n",
    "\n",
    "For each of the plots above, note down your observation."
   ]
  },
  {
   "cell_type": "code",
   "execution_count": 36,
   "id": "dadb9401",
   "metadata": {},
   "outputs": [],
   "source": [
    "import matplotlib.pyplot as plt"
   ]
  },
  {
   "cell_type": "markdown",
   "id": "fc7b0223",
   "metadata": {},
   "source": [
    "Q.8.1.\tMake scatter plot/joinplot for Rating vs. Price\n",
    "        0.\tWhat pattern do you observe? Does rating increase with price?"
   ]
  },
  {
   "cell_type": "code",
   "execution_count": 37,
   "id": "5b44711c",
   "metadata": {},
   "outputs": [
    {
     "data": {
      "text/plain": [
       "Text(0.5, 1.0, ' Rating vs. Price plot ')"
      ]
     },
     "execution_count": 37,
     "metadata": {},
     "output_type": "execute_result"
    },
    {
     "data": {
      "image/png": "[encoded data removed]",
      "text/plain": [
       "<Figure size 720x360 with 1 Axes>"
      ]
     },
     "metadata": {
      "needs_background": "light"
     },
     "output_type": "display_data"
    }
   ],
   "source": [
    "plt.figure(figsize=(10,5))\n",
    "\n",
    "plt.scatter(dt3['Rating'], dt3['Price'], color='g', s=50 )\n",
    "\n",
    "plt.xlabel ( \" Rating \" )\n",
    "plt.ylabel ( \" Price \" )\n",
    "plt.title ( \" Rating vs. Price plot \" )\n",
    "\n",
    "# yes, the rating is incresing with price"
   ]
  },
  {
   "cell_type": "markdown",
   "id": "d00b9233",
   "metadata": {},
   "source": [
    "Q.8.2.\tMake scatter plot/joinplot for Rating vs. Size\n",
    "        0.\tAre heavier apps rated better?"
   ]
  },
  {
   "cell_type": "code",
   "execution_count": 38,
   "id": "747e491d",
   "metadata": {},
   "outputs": [
    {
     "data": {
      "text/plain": [
       "Text(0.5, 1.0, ' Rating vs. Size plot ')"
      ]
     },
     "execution_count": 38,
     "metadata": {},
     "output_type": "execute_result"
    },
    {
     "data": {
      "image/png": "[encoded data removed]",
      "text/plain": [
       "<Figure size 720x360 with 1 Axes>"
      ]
     },
     "metadata": {
      "needs_background": "light"
     },
     "output_type": "display_data"
    }
   ],
   "source": [
    "plt.figure(figsize=(10,5))\n",
    "\n",
    "plt.scatter(dt3['Rating'], dt3['Size'], color='r', s=50 )\n",
    "\n",
    "\n",
    "plt.xlabel ( \" Rating \" )\n",
    "plt.ylabel ( \" Size \" )\n",
    "plt.title ( \" Rating vs. Size plot \" )\n",
    "\n",
    "# heavier apps are rated better but its not the rule"
   ]
  },
  {
   "cell_type": "markdown",
   "id": "b2e320e6",
   "metadata": {},
   "source": [
    "Q.8.3.\tMake scatter plot/joinplot for Rating vs. Reviews\n",
    "        0.\tDoes more review mean a better rating always?"
   ]
  },
  {
   "cell_type": "code",
   "execution_count": 39,
   "id": "90d42ca2",
   "metadata": {},
   "outputs": [
    {
     "data": {
      "text/plain": [
       "Text(0.5, 1.0, ' Rating vs. Reviews plot ')"
      ]
     },
     "execution_count": 39,
     "metadata": {},
     "output_type": "execute_result"
    },
    {
     "data": {
      "image/png": "[encoded data removed]",
      "text/plain": [
       "<Figure size 720x360 with 1 Axes>"
      ]
     },
     "metadata": {
      "needs_background": "light"
     },
     "output_type": "display_data"
    }
   ],
   "source": [
    "plt.figure(figsize=(10,5))\n",
    "\n",
    "plt.scatter(dt3['Rating'], dt3['Reviews'], color='b', s=50 )\n",
    "\n",
    "plt.xlabel ( \" Rating \" )\n",
    "plt.ylabel ( \" Reviews\" )\n",
    "plt.title ( \" Rating vs. Reviews plot \" )\n",
    "\n",
    "# yes, reviews and rating have a strong positive correlation"
   ]
  },
  {
   "cell_type": "markdown",
   "id": "01660ed0",
   "metadata": {},
   "source": [
    "Q.8.4.\tMake boxplot for Rating vs. Content Rating\n",
    "        0.\tIs there any difference in the ratings? Are some types liked better?\n",
    "\n",
    "   "
   ]
  },
  {
   "cell_type": "code",
   "execution_count": 40,
   "id": "9913d14f",
   "metadata": {},
   "outputs": [
    {
     "name": "stderr",
     "output_type": "stream",
     "text": [
      "C:\\Users\\akhilesh\\anaconda3\\lib\\site-packages\\seaborn\\_decorators.py:36: FutureWarning: Pass the following variables as keyword args: x, y. From version 0.12, the only valid positional argument will be `data`, and passing other arguments without an explicit keyword will result in an error or misinterpretation.\n",
      "  warnings.warn(\n"
     ]
    },
    {
     "data": {
      "text/plain": [
       "<AxesSubplot:xlabel='Rating', ylabel='Content Rating'>"
      ]
     },
     "execution_count": 40,
     "metadata": {},
     "output_type": "execute_result"
    },
    {
     "data": {
      "image/png": "[encoded data removed]",
      "text/plain": [
       "<Figure size 1080x504 with 1 Axes>"
      ]
     },
     "metadata": {
      "needs_background": "light"
     },
     "output_type": "display_data"
    }
   ],
   "source": [
    "plt.figure(figsize=[15,7])\n",
    "sns.boxplot(\"Rating\",\"Content Rating\",data=dt3)\n",
    "\n",
    "#Mostly adults(18+) have always rated it high"
   ]
  },
  {
   "cell_type": "markdown",
   "id": "1e479b19",
   "metadata": {},
   "source": [
    "5.\tMake boxplot for Ratings vs. Category\n",
    "        0.\tWhich genre has the best ratings?"
   ]
  },
  {
   "cell_type": "code",
   "execution_count": 41,
   "id": "d49e3466",
   "metadata": {},
   "outputs": [
    {
     "name": "stderr",
     "output_type": "stream",
     "text": [
      "C:\\Users\\akhilesh\\anaconda3\\lib\\site-packages\\seaborn\\_decorators.py:36: FutureWarning: Pass the following variables as keyword args: x, y. From version 0.12, the only valid positional argument will be `data`, and passing other arguments without an explicit keyword will result in an error or misinterpretation.\n",
      "  warnings.warn(\n"
     ]
    },
    {
     "data": {
      "text/plain": [
       "<AxesSubplot:xlabel='Rating', ylabel='Category'>"
      ]
     },
     "execution_count": 41,
     "metadata": {},
     "output_type": "execute_result"
    },
    {
     "data": {
      "image/png": "[encoded data removed]",
      "text/plain": [
       "<Figure size 1080x504 with 1 Axes>"
      ]
     },
     "metadata": {
      "needs_background": "light"
     },
     "output_type": "display_data"
    }
   ],
   "source": [
    "plt.figure(figsize=[15,7])\n",
    "sns.boxplot(\"Rating\",\"Category\",data=dt3)\n",
    "\n",
    "# ART and Design genre has best rating"
   ]
  },
  {
   "cell_type": "markdown",
   "id": "e3429abd",
   "metadata": {},
   "source": [
    "9. Data preprocessing\n",
    "For the steps below, create a copy of the dataframe to make all the edits. Name it inp1.\n",
    "    \n",
    "    1. Reviews and Install have some values that are still relatively very high. Before building a linear regression model, you need to reduce the skew. Apply log transformation (np.log1p) to Reviews and Installs.\n",
    "    \n",
    "    2. Drop columns App, Last Updated, Current Ver, and Android Ver. These variables are not useful for our task.\n",
    "\n",
    "    3.Get dummy columns for Category, Genres, and Content Rating. This needs to be done as the models do not understand categorical data, and all data should be numeric. Dummy encoding is one way to convert character fields to numeric. Name of dataframe should be inp2.\n",
    "\n"
   ]
  },
  {
   "cell_type": "code",
   "execution_count": 42,
   "id": "63253f20",
   "metadata": {},
   "outputs": [],
   "source": [
    "inp1=dt3.copy()"
   ]
  },
  {
   "cell_type": "code",
   "execution_count": 43,
   "id": "cd736984",
   "metadata": {},
   "outputs": [],
   "source": [
    "inp1['Reviews']=np.log1p(inp1['Reviews'])"
   ]
  },
  {
   "cell_type": "code",
   "execution_count": 44,
   "id": "390cc0ac",
   "metadata": {},
   "outputs": [],
   "source": [
    "inp1['Installs']=np.log1p(inp1['Installs'])"
   ]
  },
  {
   "cell_type": "code",
   "execution_count": 45,
   "id": "0ed77ace",
   "metadata": {},
   "outputs": [],
   "source": [
    "col_drop=['App','Last Updated','Current Ver', 'Android Ver']\n",
    "inp2=inp1.drop(col_drop, axis=1).copy()\n"
   ]
  },
  {
   "cell_type": "code",
   "execution_count": 46,
   "id": "66f1e1c1",
   "metadata": {},
   "outputs": [],
   "source": [
    "list1=['Category','Type','Genres','Content Rating'] \n",
    "inp2=pd.get_dummies(inp2,columns=list1)\n"
   ]
  },
  {
   "cell_type": "markdown",
   "id": "023ee02b",
   "metadata": {},
   "source": [
    "10. Train test split and apply 70-30 split. Name the new dataframes df_train and df_test.\n"
   ]
  },
  {
   "cell_type": "code",
   "execution_count": 47,
   "id": "0a1de79a",
   "metadata": {},
   "outputs": [],
   "source": [
    "\n",
    "from sklearn.model_selection import train_test_split\n",
    "df_train, df_test=train_test_split(inp2,test_size=0.30,random_state=32)\n"
   ]
  },
  {
   "cell_type": "code",
   "execution_count": 48,
   "id": "dcaa0d14",
   "metadata": {},
   "outputs": [
    {
     "name": "stdout",
     "output_type": "stream",
     "text": [
      "(5080, 156)\n",
      "(2178, 156)\n"
     ]
    }
   ],
   "source": [
    "print(df_train.shape)\n",
    "print(df_test.shape)"
   ]
  },
  {
   "cell_type": "markdown",
   "id": "04397c23",
   "metadata": {},
   "source": [
    "11. Separate the dataframes into X_train, y_train, X_test, and y_test.\n"
   ]
  },
  {
   "cell_type": "code",
   "execution_count": 49,
   "id": "5009fad8",
   "metadata": {},
   "outputs": [
    {
     "name": "stdout",
     "output_type": "stream",
     "text": [
      "<class 'pandas.core.frame.DataFrame'>\n",
      "Int64Index: 5080 entries, 10257 to 4455\n",
      "Columns: 156 entries, Rating to Content Rating_Unrated\n",
      "dtypes: float64(5), uint8(151)\n",
      "memory usage: 987.2 KB\n"
     ]
    }
   ],
   "source": [
    "df_train.info()"
   ]
  },
  {
   "cell_type": "code",
   "execution_count": 50,
   "id": "2d9b1032",
   "metadata": {},
   "outputs": [],
   "source": [
    "y_train=df_train.pop('Installs')\n",
    "\n",
    "X_train=df_train"
   ]
  },
  {
   "cell_type": "code",
   "execution_count": 51,
   "id": "2276b9ae",
   "metadata": {},
   "outputs": [],
   "source": [
    "y_test=df_test.pop('Installs')\n",
    "\n",
    "X_test=df_test"
   ]
  },
  {
   "cell_type": "code",
   "execution_count": 52,
   "id": "407c76f8",
   "metadata": {},
   "outputs": [
    {
     "name": "stdout",
     "output_type": "stream",
     "text": [
      "(5080, 155)\n",
      "(2178, 155)\n",
      "(5080,)\n",
      "(2178,)\n"
     ]
    }
   ],
   "source": [
    "print(X_train.shape)\n",
    "print(X_test.shape)\n",
    "print(y_train.shape)\n",
    "print(y_test.shape)"
   ]
  },
  {
   "cell_type": "markdown",
   "id": "d5725e50",
   "metadata": {},
   "source": [
    "12 . Model building • Use linear regression as the technique • Report the R2 on the train set\n"
   ]
  },
  {
   "cell_type": "code",
   "execution_count": 53,
   "id": "7ee3c610",
   "metadata": {},
   "outputs": [
    {
     "data": {
      "text/plain": [
       "LinearRegression()"
      ]
     },
     "execution_count": 53,
     "metadata": {},
     "output_type": "execute_result"
    }
   ],
   "source": [
    "from sklearn.linear_model import LinearRegression\n",
    "regressor=LinearRegression()\n",
    "\n",
    "regressor.fit(X_train, y_train)"
   ]
  },
  {
   "cell_type": "code",
   "execution_count": 54,
   "id": "d27c2ae5",
   "metadata": {},
   "outputs": [
    {
     "data": {
      "text/plain": [
       "array([10.60013094, 16.15975191, 13.11246457, ..., 10.80876444,\n",
       "        9.73196929,  9.96739275])"
      ]
     },
     "execution_count": 54,
     "metadata": {},
     "output_type": "execute_result"
    }
   ],
   "source": [
    "y_pred=regressor.predict(X_test)\n",
    "y_pred"
   ]
  },
  {
   "cell_type": "markdown",
   "id": "c6ac4d71",
   "metadata": {},
   "source": [
    "13. Make predictions on test set and report R2\n"
   ]
  },
  {
   "cell_type": "code",
   "execution_count": 55,
   "id": "7a60748f",
   "metadata": {},
   "outputs": [
    {
     "name": "stdout",
     "output_type": "stream",
     "text": [
      "0.9084390525833401\n"
     ]
    }
   ],
   "source": [
    "from sklearn import metrics\n",
    "print(metrics.r2_score(y_test,y_pred))\n",
    "\n",
    "# 90% accuracy reported"
   ]
  },
  {
   "cell_type": "code",
   "execution_count": null,
   "id": "97bec508",
   "metadata": {},
   "outputs": [],
   "source": []
  }
 ],
 "metadata": {
  "kernelspec": {
   "display_name": "Python 3 (ipykernel)",
   "language": "python",
   "name": "python3"
  },
  "language_info": {
   "codemirror_mode": {
    "name": "ipython",
    "version": 3
   },
   "file_extension": ".py",
   "mimetype": "text/x-python",
   "name": "python",
   "nbconvert_exporter": "python",
   "pygments_lexer": "ipython3",
   "version": "3.9.7"
  }
 },
 "nbformat": 4,
 "nbformat_minor": 5
}
